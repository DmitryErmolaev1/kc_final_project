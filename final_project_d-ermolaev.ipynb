{
 "cells": [
  {
   "cell_type": "markdown",
   "metadata": {},
   "source": [
    "## Задание 1. A/B–тестирование\n",
    "<b> Одной из основных задач аналитика в нашей команде является корректное проведение экспериментов. Для этого мы применяем метод A/B–тестирования. В ходе тестирования одной гипотезы целевой группе была предложена новая механика оплаты услуг на сайте, у контрольной группы оставалась базовая механика. В качестве задания Вам необходимо проанализировать итоги эксперимента и сделать вывод, стоит ли запускать новую механику оплаты на всех пользователей.</b>\n",
    " ## Вопросы\n",
    "\n",
    "<b><ul> <li>На какие метрики Вы смотрите в ходе анализа и почему?</li>\n",
    " <li>Имеются ли различия в показателях и с чем они могут быть связаны?</li>\n",
    " <li>Являются ли эти различия статистически значимыми?</li>\n",
    " <li>Стоит ли запускать новую механику на всех пользователей?</li></ul></b>\n",
    "<b>Данный список вопросов не является обязательным, и Вы можете при своём ответе опираться на собственный план.</b>\n",
    "\n",
    "### В качестве входных данных Вы имеете 4 csv-файла:\n",
    "<b><ul>\n",
    " <li> groups.csv - файл с информацией о принадлежности пользователя к \n",
    "  контрольной или экспериментальной группе (А – контроль, B– целевая группа)</li>\n",
    " <li> groups_add.csv - дополнительный файл с пользователями, который вам прислали спустя 2 дня после передачи данных.</li>\n",
    " <li> active_studs.csv - файл с информацией о пользователях, которые зашли на платформу в дни проведения эксперимента.</li> \n",
    " <li> checks.csv - файл с информацией об оплатах пользователей в дни проведения эксперимента.</li></ul> </b>"
   ]
  },
  {
   "cell_type": "code",
   "execution_count": 1,
   "metadata": {},
   "outputs": [],
   "source": [
    "import pandas as pd\n",
    "import numpy as np\n",
    "import seaborn as sns\n",
    "import requests\n",
    "from urllib.parse import urlencode\n",
    "from scipy import stats\n",
    "from scipy.stats import chi2_contingency, norm\n",
    "from statsmodels. stats.weightstats import ztest as ztest\n",
    "from tqdm.auto import tqdm\n",
    "import matplotlib.pyplot as plt\n",
    "plt.rcParams['axes.prop_cycle'] = plt.cycler(color=['orange'])"
   ]
  },
  {
   "cell_type": "code",
   "execution_count": 2,
   "metadata": {},
   "outputs": [],
   "source": [
    "# используем api \n",
    "base_url = 'https://cloud-api.yandex.net/v1/disk/public/resources/download?' \n",
    "groups_url = 'https://disk.yandex.ru/d/UhyYx41rTt3clQ' \n",
    "groups_add_url = 'https://disk.yandex.ru/d/5Kxrz02m3IBUwQ'\n",
    "active_st_url = 'https://disk.yandex.ru/d/Tbs44Bm6H_FwFQ' \n",
    "checks_url = 'https://disk.yandex.ru/d/pH1q-VqcxXjsVA' \n",
    "\n",
    "\n",
    " \n",
    "# загружаем файлы \n",
    "groups = pd.read_csv(requests.get(base_url + urlencode(dict(public_key=groups_url))).json()['href'], sep=';')\n",
    "groups_add = pd.read_csv(requests.get(base_url + urlencode(dict(public_key=groups_add_url))).json()['href'], sep=',')\n",
    "active_st = pd.read_csv(requests.get(base_url + urlencode(dict(public_key=active_st_url))).json()['href'], sep=';')\n",
    "checks = pd.read_csv(requests.get(base_url + urlencode(dict(public_key=checks_url))).json()['href'], sep=';')"
   ]
  },
  {
   "cell_type": "code",
   "execution_count": 3,
   "metadata": {},
   "outputs": [
    {
     "data": {
      "text/html": [
       "<div>\n",
       "<style scoped>\n",
       "    .dataframe tbody tr th:only-of-type {\n",
       "        vertical-align: middle;\n",
       "    }\n",
       "\n",
       "    .dataframe tbody tr th {\n",
       "        vertical-align: top;\n",
       "    }\n",
       "\n",
       "    .dataframe thead th {\n",
       "        text-align: right;\n",
       "    }\n",
       "</style>\n",
       "<table border=\"1\" class=\"dataframe\">\n",
       "  <thead>\n",
       "    <tr style=\"text-align: right;\">\n",
       "      <th></th>\n",
       "      <th>id</th>\n",
       "      <th>grp</th>\n",
       "    </tr>\n",
       "  </thead>\n",
       "  <tbody>\n",
       "    <tr>\n",
       "      <th>0</th>\n",
       "      <td>1489</td>\n",
       "      <td>B</td>\n",
       "    </tr>\n",
       "    <tr>\n",
       "      <th>1</th>\n",
       "      <td>1627</td>\n",
       "      <td>A</td>\n",
       "    </tr>\n",
       "    <tr>\n",
       "      <th>2</th>\n",
       "      <td>1768</td>\n",
       "      <td>B</td>\n",
       "    </tr>\n",
       "    <tr>\n",
       "      <th>3</th>\n",
       "      <td>1783</td>\n",
       "      <td>B</td>\n",
       "    </tr>\n",
       "    <tr>\n",
       "      <th>4</th>\n",
       "      <td>1794</td>\n",
       "      <td>A</td>\n",
       "    </tr>\n",
       "  </tbody>\n",
       "</table>\n",
       "</div>"
      ],
      "text/plain": [
       "     id grp\n",
       "0  1489   B\n",
       "1  1627   A\n",
       "2  1768   B\n",
       "3  1783   B\n",
       "4  1794   A"
      ]
     },
     "execution_count": 3,
     "metadata": {},
     "output_type": "execute_result"
    }
   ],
   "source": [
    "groups.head()"
   ]
  },
  {
   "cell_type": "code",
   "execution_count": 4,
   "metadata": {},
   "outputs": [
    {
     "data": {
      "text/plain": [
       "(74484, 2)"
      ]
     },
     "execution_count": 4,
     "metadata": {},
     "output_type": "execute_result"
    }
   ],
   "source": [
    "groups.shape"
   ]
  },
  {
   "cell_type": "code",
   "execution_count": 5,
   "metadata": {},
   "outputs": [
    {
     "data": {
      "text/html": [
       "<div>\n",
       "<style scoped>\n",
       "    .dataframe tbody tr th:only-of-type {\n",
       "        vertical-align: middle;\n",
       "    }\n",
       "\n",
       "    .dataframe tbody tr th {\n",
       "        vertical-align: top;\n",
       "    }\n",
       "\n",
       "    .dataframe thead th {\n",
       "        text-align: right;\n",
       "    }\n",
       "</style>\n",
       "<table border=\"1\" class=\"dataframe\">\n",
       "  <thead>\n",
       "    <tr style=\"text-align: right;\">\n",
       "      <th></th>\n",
       "      <th>id</th>\n",
       "      <th>grp</th>\n",
       "    </tr>\n",
       "  </thead>\n",
       "  <tbody>\n",
       "    <tr>\n",
       "      <th>0</th>\n",
       "      <td>5694584</td>\n",
       "      <td>B</td>\n",
       "    </tr>\n",
       "    <tr>\n",
       "      <th>1</th>\n",
       "      <td>5694830</td>\n",
       "      <td>B</td>\n",
       "    </tr>\n",
       "    <tr>\n",
       "      <th>2</th>\n",
       "      <td>5695057</td>\n",
       "      <td>B</td>\n",
       "    </tr>\n",
       "    <tr>\n",
       "      <th>3</th>\n",
       "      <td>5698872</td>\n",
       "      <td>B</td>\n",
       "    </tr>\n",
       "    <tr>\n",
       "      <th>4</th>\n",
       "      <td>5699067</td>\n",
       "      <td>B</td>\n",
       "    </tr>\n",
       "  </tbody>\n",
       "</table>\n",
       "</div>"
      ],
      "text/plain": [
       "        id grp\n",
       "0  5694584   B\n",
       "1  5694830   B\n",
       "2  5695057   B\n",
       "3  5698872   B\n",
       "4  5699067   B"
      ]
     },
     "execution_count": 5,
     "metadata": {},
     "output_type": "execute_result"
    }
   ],
   "source": [
    "groups_add.head()"
   ]
  },
  {
   "cell_type": "code",
   "execution_count": 6,
   "metadata": {},
   "outputs": [
    {
     "data": {
      "text/plain": [
       "(92, 2)"
      ]
     },
     "execution_count": 6,
     "metadata": {},
     "output_type": "execute_result"
    }
   ],
   "source": [
    "groups_add.shape"
   ]
  },
  {
   "cell_type": "code",
   "execution_count": 7,
   "metadata": {},
   "outputs": [
    {
     "data": {
      "text/html": [
       "<div>\n",
       "<style scoped>\n",
       "    .dataframe tbody tr th:only-of-type {\n",
       "        vertical-align: middle;\n",
       "    }\n",
       "\n",
       "    .dataframe tbody tr th {\n",
       "        vertical-align: top;\n",
       "    }\n",
       "\n",
       "    .dataframe thead th {\n",
       "        text-align: right;\n",
       "    }\n",
       "</style>\n",
       "<table border=\"1\" class=\"dataframe\">\n",
       "  <thead>\n",
       "    <tr style=\"text-align: right;\">\n",
       "      <th></th>\n",
       "      <th>student_id</th>\n",
       "    </tr>\n",
       "  </thead>\n",
       "  <tbody>\n",
       "    <tr>\n",
       "      <th>0</th>\n",
       "      <td>581585</td>\n",
       "    </tr>\n",
       "    <tr>\n",
       "      <th>1</th>\n",
       "      <td>5723133</td>\n",
       "    </tr>\n",
       "    <tr>\n",
       "      <th>2</th>\n",
       "      <td>3276743</td>\n",
       "    </tr>\n",
       "    <tr>\n",
       "      <th>3</th>\n",
       "      <td>4238589</td>\n",
       "    </tr>\n",
       "    <tr>\n",
       "      <th>4</th>\n",
       "      <td>4475369</td>\n",
       "    </tr>\n",
       "  </tbody>\n",
       "</table>\n",
       "</div>"
      ],
      "text/plain": [
       "   student_id\n",
       "0      581585\n",
       "1     5723133\n",
       "2     3276743\n",
       "3     4238589\n",
       "4     4475369"
      ]
     },
     "execution_count": 7,
     "metadata": {},
     "output_type": "execute_result"
    }
   ],
   "source": [
    "active_st.head()"
   ]
  },
  {
   "cell_type": "code",
   "execution_count": 8,
   "metadata": {
    "scrolled": true
   },
   "outputs": [
    {
     "data": {
      "text/plain": [
       "(8341, 1)"
      ]
     },
     "execution_count": 8,
     "metadata": {},
     "output_type": "execute_result"
    }
   ],
   "source": [
    "active_st.shape"
   ]
  },
  {
   "cell_type": "code",
   "execution_count": 9,
   "metadata": {},
   "outputs": [
    {
     "data": {
      "text/html": [
       "<div>\n",
       "<style scoped>\n",
       "    .dataframe tbody tr th:only-of-type {\n",
       "        vertical-align: middle;\n",
       "    }\n",
       "\n",
       "    .dataframe tbody tr th {\n",
       "        vertical-align: top;\n",
       "    }\n",
       "\n",
       "    .dataframe thead th {\n",
       "        text-align: right;\n",
       "    }\n",
       "</style>\n",
       "<table border=\"1\" class=\"dataframe\">\n",
       "  <thead>\n",
       "    <tr style=\"text-align: right;\">\n",
       "      <th></th>\n",
       "      <th>student_id</th>\n",
       "      <th>rev</th>\n",
       "    </tr>\n",
       "  </thead>\n",
       "  <tbody>\n",
       "    <tr>\n",
       "      <th>0</th>\n",
       "      <td>1627</td>\n",
       "      <td>990.0</td>\n",
       "    </tr>\n",
       "    <tr>\n",
       "      <th>1</th>\n",
       "      <td>3185</td>\n",
       "      <td>690.0</td>\n",
       "    </tr>\n",
       "    <tr>\n",
       "      <th>2</th>\n",
       "      <td>25973</td>\n",
       "      <td>690.0</td>\n",
       "    </tr>\n",
       "    <tr>\n",
       "      <th>3</th>\n",
       "      <td>26280</td>\n",
       "      <td>690.0</td>\n",
       "    </tr>\n",
       "    <tr>\n",
       "      <th>4</th>\n",
       "      <td>100300</td>\n",
       "      <td>990.0</td>\n",
       "    </tr>\n",
       "  </tbody>\n",
       "</table>\n",
       "</div>"
      ],
      "text/plain": [
       "   student_id    rev\n",
       "0        1627  990.0\n",
       "1        3185  690.0\n",
       "2       25973  690.0\n",
       "3       26280  690.0\n",
       "4      100300  990.0"
      ]
     },
     "execution_count": 9,
     "metadata": {},
     "output_type": "execute_result"
    }
   ],
   "source": [
    "checks.head()"
   ]
  },
  {
   "cell_type": "code",
   "execution_count": 10,
   "metadata": {},
   "outputs": [
    {
     "data": {
      "text/plain": [
       "(541, 2)"
      ]
     },
     "execution_count": 10,
     "metadata": {},
     "output_type": "execute_result"
    }
   ],
   "source": [
    "checks.shape"
   ]
  },
  {
   "cell_type": "markdown",
   "metadata": {},
   "source": [
    "Объединяю файл с разбивкой пользователей по группам с дополнительными данными"
   ]
  },
  {
   "cell_type": "code",
   "execution_count": 11,
   "metadata": {
    "scrolled": true
   },
   "outputs": [
    {
     "data": {
      "text/html": [
       "<div>\n",
       "<style scoped>\n",
       "    .dataframe tbody tr th:only-of-type {\n",
       "        vertical-align: middle;\n",
       "    }\n",
       "\n",
       "    .dataframe tbody tr th {\n",
       "        vertical-align: top;\n",
       "    }\n",
       "\n",
       "    .dataframe thead th {\n",
       "        text-align: right;\n",
       "    }\n",
       "</style>\n",
       "<table border=\"1\" class=\"dataframe\">\n",
       "  <thead>\n",
       "    <tr style=\"text-align: right;\">\n",
       "      <th></th>\n",
       "      <th>id</th>\n",
       "      <th>grp</th>\n",
       "    </tr>\n",
       "  </thead>\n",
       "  <tbody>\n",
       "    <tr>\n",
       "      <th>0</th>\n",
       "      <td>1489</td>\n",
       "      <td>B</td>\n",
       "    </tr>\n",
       "    <tr>\n",
       "      <th>1</th>\n",
       "      <td>1627</td>\n",
       "      <td>A</td>\n",
       "    </tr>\n",
       "    <tr>\n",
       "      <th>2</th>\n",
       "      <td>1768</td>\n",
       "      <td>B</td>\n",
       "    </tr>\n",
       "    <tr>\n",
       "      <th>3</th>\n",
       "      <td>1783</td>\n",
       "      <td>B</td>\n",
       "    </tr>\n",
       "    <tr>\n",
       "      <th>4</th>\n",
       "      <td>1794</td>\n",
       "      <td>A</td>\n",
       "    </tr>\n",
       "  </tbody>\n",
       "</table>\n",
       "</div>"
      ],
      "text/plain": [
       "     id grp\n",
       "0  1489   B\n",
       "1  1627   A\n",
       "2  1768   B\n",
       "3  1783   B\n",
       "4  1794   A"
      ]
     },
     "execution_count": 11,
     "metadata": {},
     "output_type": "execute_result"
    }
   ],
   "source": [
    "all_groups = pd.concat([groups,groups_add], axis=0)\n",
    "all_groups.head()"
   ]
  },
  {
   "cell_type": "code",
   "execution_count": 12,
   "metadata": {
    "scrolled": true
   },
   "outputs": [
    {
     "data": {
      "text/html": [
       "<div>\n",
       "<style scoped>\n",
       "    .dataframe tbody tr th:only-of-type {\n",
       "        vertical-align: middle;\n",
       "    }\n",
       "\n",
       "    .dataframe tbody tr th {\n",
       "        vertical-align: top;\n",
       "    }\n",
       "\n",
       "    .dataframe thead th {\n",
       "        text-align: right;\n",
       "    }\n",
       "</style>\n",
       "<table border=\"1\" class=\"dataframe\">\n",
       "  <thead>\n",
       "    <tr style=\"text-align: right;\">\n",
       "      <th></th>\n",
       "      <th>student_id</th>\n",
       "      <th>grp</th>\n",
       "    </tr>\n",
       "  </thead>\n",
       "  <tbody>\n",
       "    <tr>\n",
       "      <th>0</th>\n",
       "      <td>1489</td>\n",
       "      <td>B</td>\n",
       "    </tr>\n",
       "    <tr>\n",
       "      <th>1</th>\n",
       "      <td>1627</td>\n",
       "      <td>A</td>\n",
       "    </tr>\n",
       "    <tr>\n",
       "      <th>2</th>\n",
       "      <td>1768</td>\n",
       "      <td>B</td>\n",
       "    </tr>\n",
       "    <tr>\n",
       "      <th>3</th>\n",
       "      <td>1783</td>\n",
       "      <td>B</td>\n",
       "    </tr>\n",
       "    <tr>\n",
       "      <th>4</th>\n",
       "      <td>1794</td>\n",
       "      <td>A</td>\n",
       "    </tr>\n",
       "  </tbody>\n",
       "</table>\n",
       "</div>"
      ],
      "text/plain": [
       "   student_id grp\n",
       "0        1489   B\n",
       "1        1627   A\n",
       "2        1768   B\n",
       "3        1783   B\n",
       "4        1794   A"
      ]
     },
     "execution_count": 12,
     "metadata": {},
     "output_type": "execute_result"
    }
   ],
   "source": [
    "all_groups = all_groups.rename(columns = {'id' : 'student_id'})\n",
    "all_groups.head()"
   ]
  },
  {
   "cell_type": "markdown",
   "metadata": {},
   "source": [
    "Теперь надо объединить датафрейм содержащий информацию о пользователях, которые в дни эксперимента заходили на сайт и датафрейм с разбивкой пользователей по группам\n"
   ]
  },
  {
   "cell_type": "code",
   "execution_count": 13,
   "metadata": {
    "scrolled": true
   },
   "outputs": [
    {
     "data": {
      "text/html": [
       "<div>\n",
       "<style scoped>\n",
       "    .dataframe tbody tr th:only-of-type {\n",
       "        vertical-align: middle;\n",
       "    }\n",
       "\n",
       "    .dataframe tbody tr th {\n",
       "        vertical-align: top;\n",
       "    }\n",
       "\n",
       "    .dataframe thead th {\n",
       "        text-align: right;\n",
       "    }\n",
       "</style>\n",
       "<table border=\"1\" class=\"dataframe\">\n",
       "  <thead>\n",
       "    <tr style=\"text-align: right;\">\n",
       "      <th></th>\n",
       "      <th>student_id</th>\n",
       "      <th>grp</th>\n",
       "    </tr>\n",
       "  </thead>\n",
       "  <tbody>\n",
       "    <tr>\n",
       "      <th>0</th>\n",
       "      <td>581585</td>\n",
       "      <td>A</td>\n",
       "    </tr>\n",
       "    <tr>\n",
       "      <th>1</th>\n",
       "      <td>5723133</td>\n",
       "      <td>A</td>\n",
       "    </tr>\n",
       "    <tr>\n",
       "      <th>2</th>\n",
       "      <td>3276743</td>\n",
       "      <td>B</td>\n",
       "    </tr>\n",
       "    <tr>\n",
       "      <th>3</th>\n",
       "      <td>4238589</td>\n",
       "      <td>A</td>\n",
       "    </tr>\n",
       "    <tr>\n",
       "      <th>4</th>\n",
       "      <td>4475369</td>\n",
       "      <td>B</td>\n",
       "    </tr>\n",
       "  </tbody>\n",
       "</table>\n",
       "</div>"
      ],
      "text/plain": [
       "   student_id grp\n",
       "0      581585   A\n",
       "1     5723133   A\n",
       "2     3276743   B\n",
       "3     4238589   A\n",
       "4     4475369   B"
      ]
     },
     "execution_count": 13,
     "metadata": {},
     "output_type": "execute_result"
    }
   ],
   "source": [
    "active_st_group = active_st.merge(all_groups, how='left', on='student_id')\n",
    "active_st_group.head()"
   ]
  },
  {
   "cell_type": "markdown",
   "metadata": {},
   "source": [
    "И теперь в <b>active_st_group</b> добавлю данные с покупками пользователей"
   ]
  },
  {
   "cell_type": "code",
   "execution_count": 14,
   "metadata": {},
   "outputs": [
    {
     "data": {
      "text/html": [
       "<div>\n",
       "<style scoped>\n",
       "    .dataframe tbody tr th:only-of-type {\n",
       "        vertical-align: middle;\n",
       "    }\n",
       "\n",
       "    .dataframe tbody tr th {\n",
       "        vertical-align: top;\n",
       "    }\n",
       "\n",
       "    .dataframe thead th {\n",
       "        text-align: right;\n",
       "    }\n",
       "</style>\n",
       "<table border=\"1\" class=\"dataframe\">\n",
       "  <thead>\n",
       "    <tr style=\"text-align: right;\">\n",
       "      <th></th>\n",
       "      <th>student_id</th>\n",
       "      <th>grp</th>\n",
       "      <th>rev</th>\n",
       "    </tr>\n",
       "  </thead>\n",
       "  <tbody>\n",
       "    <tr>\n",
       "      <th>0</th>\n",
       "      <td>581585</td>\n",
       "      <td>A</td>\n",
       "      <td>NaN</td>\n",
       "    </tr>\n",
       "    <tr>\n",
       "      <th>1</th>\n",
       "      <td>5723133</td>\n",
       "      <td>A</td>\n",
       "      <td>NaN</td>\n",
       "    </tr>\n",
       "    <tr>\n",
       "      <th>2</th>\n",
       "      <td>3276743</td>\n",
       "      <td>B</td>\n",
       "      <td>NaN</td>\n",
       "    </tr>\n",
       "    <tr>\n",
       "      <th>3</th>\n",
       "      <td>4238589</td>\n",
       "      <td>A</td>\n",
       "      <td>NaN</td>\n",
       "    </tr>\n",
       "    <tr>\n",
       "      <th>4</th>\n",
       "      <td>4475369</td>\n",
       "      <td>B</td>\n",
       "      <td>NaN</td>\n",
       "    </tr>\n",
       "  </tbody>\n",
       "</table>\n",
       "</div>"
      ],
      "text/plain": [
       "   student_id grp  rev\n",
       "0      581585   A  NaN\n",
       "1     5723133   A  NaN\n",
       "2     3276743   B  NaN\n",
       "3     4238589   A  NaN\n",
       "4     4475369   B  NaN"
      ]
     },
     "execution_count": 14,
     "metadata": {},
     "output_type": "execute_result"
    }
   ],
   "source": [
    "experiment = active_st_group.merge(checks, how='left', on='student_id')\n",
    "experiment.head()"
   ]
  },
  {
   "cell_type": "markdown",
   "metadata": {},
   "source": [
    "Все неизвестные значения в столбце rev заменим на нули. Отбрасывать эти значения нельзя, так как они характеризуют поведение пользователей."
   ]
  },
  {
   "cell_type": "code",
   "execution_count": 15,
   "metadata": {},
   "outputs": [],
   "source": [
    "experiment['rev'].fillna(0, inplace=True)"
   ]
  },
  {
   "cell_type": "code",
   "execution_count": 16,
   "metadata": {},
   "outputs": [
    {
     "data": {
      "text/html": [
       "<div>\n",
       "<style scoped>\n",
       "    .dataframe tbody tr th:only-of-type {\n",
       "        vertical-align: middle;\n",
       "    }\n",
       "\n",
       "    .dataframe tbody tr th {\n",
       "        vertical-align: top;\n",
       "    }\n",
       "\n",
       "    .dataframe thead th {\n",
       "        text-align: right;\n",
       "    }\n",
       "</style>\n",
       "<table border=\"1\" class=\"dataframe\">\n",
       "  <thead>\n",
       "    <tr style=\"text-align: right;\">\n",
       "      <th></th>\n",
       "      <th>student_id</th>\n",
       "      <th>grp</th>\n",
       "      <th>rev</th>\n",
       "    </tr>\n",
       "  </thead>\n",
       "  <tbody>\n",
       "    <tr>\n",
       "      <th>0</th>\n",
       "      <td>581585</td>\n",
       "      <td>A</td>\n",
       "      <td>0.0</td>\n",
       "    </tr>\n",
       "    <tr>\n",
       "      <th>1</th>\n",
       "      <td>5723133</td>\n",
       "      <td>A</td>\n",
       "      <td>0.0</td>\n",
       "    </tr>\n",
       "    <tr>\n",
       "      <th>2</th>\n",
       "      <td>3276743</td>\n",
       "      <td>B</td>\n",
       "      <td>0.0</td>\n",
       "    </tr>\n",
       "    <tr>\n",
       "      <th>3</th>\n",
       "      <td>4238589</td>\n",
       "      <td>A</td>\n",
       "      <td>0.0</td>\n",
       "    </tr>\n",
       "    <tr>\n",
       "      <th>4</th>\n",
       "      <td>4475369</td>\n",
       "      <td>B</td>\n",
       "      <td>0.0</td>\n",
       "    </tr>\n",
       "    <tr>\n",
       "      <th>...</th>\n",
       "      <td>...</td>\n",
       "      <td>...</td>\n",
       "      <td>...</td>\n",
       "    </tr>\n",
       "    <tr>\n",
       "      <th>8336</th>\n",
       "      <td>1794344</td>\n",
       "      <td>B</td>\n",
       "      <td>0.0</td>\n",
       "    </tr>\n",
       "    <tr>\n",
       "      <th>8337</th>\n",
       "      <td>296883</td>\n",
       "      <td>B</td>\n",
       "      <td>0.0</td>\n",
       "    </tr>\n",
       "    <tr>\n",
       "      <th>8338</th>\n",
       "      <td>3598448</td>\n",
       "      <td>B</td>\n",
       "      <td>0.0</td>\n",
       "    </tr>\n",
       "    <tr>\n",
       "      <th>8339</th>\n",
       "      <td>3610547</td>\n",
       "      <td>B</td>\n",
       "      <td>290.0</td>\n",
       "    </tr>\n",
       "    <tr>\n",
       "      <th>8340</th>\n",
       "      <td>205705</td>\n",
       "      <td>B</td>\n",
       "      <td>0.0</td>\n",
       "    </tr>\n",
       "  </tbody>\n",
       "</table>\n",
       "<p>8341 rows × 3 columns</p>\n",
       "</div>"
      ],
      "text/plain": [
       "      student_id grp    rev\n",
       "0         581585   A    0.0\n",
       "1        5723133   A    0.0\n",
       "2        3276743   B    0.0\n",
       "3        4238589   A    0.0\n",
       "4        4475369   B    0.0\n",
       "...          ...  ..    ...\n",
       "8336     1794344   B    0.0\n",
       "8337      296883   B    0.0\n",
       "8338     3598448   B    0.0\n",
       "8339     3610547   B  290.0\n",
       "8340      205705   B    0.0\n",
       "\n",
       "[8341 rows x 3 columns]"
      ]
     },
     "execution_count": 16,
     "metadata": {},
     "output_type": "execute_result"
    }
   ],
   "source": [
    "experiment"
   ]
  },
  {
   "cell_type": "code",
   "execution_count": 17,
   "metadata": {},
   "outputs": [
    {
     "data": {
      "text/plain": [
       "student_id    8341\n",
       "grp              2\n",
       "rev             39\n",
       "dtype: int64"
      ]
     },
     "execution_count": 17,
     "metadata": {},
     "output_type": "execute_result"
    }
   ],
   "source": [
    "experiment.nunique()"
   ]
  },
  {
   "cell_type": "markdown",
   "metadata": {},
   "source": [
    "<b>Для оценки влияния новой механики оплаты на сайте при проведении A/B-теста, можно использовать метрики, связанные с конверсией и доходом.</b>\n",
    "\n",
    "Я рассмотрю следующие метрики:\n",
    "<ul>\n",
    "    <li> <b>Конверсия</b> - одна из основных метрик, которая показывает, какая доля пользователей, посетивших сайт, совершает целевое действие. Если новая механика оплаты приводит к увеличению конверсии, то это говорит о ее положительном влиянии.</li>\n",
    " <li><b>ARPU</b> - это средний доход, получаемый от каждого пользователя в определенном периоде времени.</li> \n",
    " <li><b>ARPPU</b> - это средний доход, получаемый от каждого платящего пользователя в определенный период времени.  </li>\n",
    "</ul>"
   ]
  },
  {
   "cell_type": "markdown",
   "metadata": {},
   "source": [
    "Я создам датафрейм, в котором будет сравнение метрик по группам, для большей наглядности"
   ]
  },
  {
   "cell_type": "code",
   "execution_count": 18,
   "metadata": {},
   "outputs": [],
   "source": [
    "groupA = experiment.query('grp == \"A\"')"
   ]
  },
  {
   "cell_type": "code",
   "execution_count": 19,
   "metadata": {},
   "outputs": [],
   "source": [
    "groupB = experiment.query('grp == \"B\"')"
   ]
  },
  {
   "cell_type": "code",
   "execution_count": 20,
   "metadata": {},
   "outputs": [
    {
     "data": {
      "text/html": [
       "<div>\n",
       "<style scoped>\n",
       "    .dataframe tbody tr th:only-of-type {\n",
       "        vertical-align: middle;\n",
       "    }\n",
       "\n",
       "    .dataframe tbody tr th {\n",
       "        vertical-align: top;\n",
       "    }\n",
       "\n",
       "    .dataframe thead th {\n",
       "        text-align: right;\n",
       "    }\n",
       "</style>\n",
       "<table border=\"1\" class=\"dataframe\">\n",
       "  <thead>\n",
       "    <tr style=\"text-align: right;\">\n",
       "      <th></th>\n",
       "      <th>grp</th>\n",
       "      <th>users_cnt</th>\n",
       "    </tr>\n",
       "  </thead>\n",
       "  <tbody>\n",
       "    <tr>\n",
       "      <th>0</th>\n",
       "      <td>A</td>\n",
       "      <td>1538</td>\n",
       "    </tr>\n",
       "    <tr>\n",
       "      <th>1</th>\n",
       "      <td>B</td>\n",
       "      <td>6803</td>\n",
       "    </tr>\n",
       "  </tbody>\n",
       "</table>\n",
       "</div>"
      ],
      "text/plain": [
       "  grp  users_cnt\n",
       "0   A       1538\n",
       "1   B       6803"
      ]
     },
     "execution_count": 20,
     "metadata": {},
     "output_type": "execute_result"
    }
   ],
   "source": [
    "grp_metrics = experiment.groupby('grp', as_index=False) \\\n",
    "    .agg({'student_id':'count'}) \\\n",
    "    .rename(columns={'student_id':'users_cnt'})\n",
    "grp_metrics"
   ]
  },
  {
   "cell_type": "markdown",
   "metadata": {},
   "source": [
    "Добавлю информацию о купивших/не купивших в разбивке по группам"
   ]
  },
  {
   "cell_type": "code",
   "execution_count": 21,
   "metadata": {},
   "outputs": [],
   "source": [
    "grp_metrics['purch'] = [groupA.query('rev > 0').shape[0],groupB.query('rev > 0').shape[0]]"
   ]
  },
  {
   "cell_type": "code",
   "execution_count": 22,
   "metadata": {},
   "outputs": [],
   "source": [
    "grp_metrics['no_purch'] = [groupA.query('rev == 0').shape[0],groupB.query('rev == 0').shape[0]]"
   ]
  },
  {
   "cell_type": "markdown",
   "metadata": {},
   "source": [
    "<b>1. Рассчитаем метрики для 2-х групп</b>"
   ]
  },
  {
   "cell_type": "code",
   "execution_count": 23,
   "metadata": {},
   "outputs": [],
   "source": [
    "grp_metrics['CR'] = [groupA.query('rev > 0').rev.shape[0]/groupA.rev.shape[0],groupB.query('rev > 0').rev.shape[0]/groupB.rev.shape[0]]"
   ]
  },
  {
   "cell_type": "code",
   "execution_count": 24,
   "metadata": {},
   "outputs": [],
   "source": [
    "grp_metrics['ARPU'] = [groupA.rev.sum()/groupA.shape[0], groupB.rev.sum()/groupB.shape[0]]"
   ]
  },
  {
   "cell_type": "code",
   "execution_count": 25,
   "metadata": {},
   "outputs": [],
   "source": [
    "grp_metrics['ARPPU'] = [groupA.rev.sum()/groupA.query('rev > 0').shape[0], groupB.rev.sum()/groupB.query('rev > 0').shape[0]]"
   ]
  },
  {
   "cell_type": "code",
   "execution_count": 26,
   "metadata": {},
   "outputs": [
    {
     "data": {
      "text/html": [
       "<div>\n",
       "<style scoped>\n",
       "    .dataframe tbody tr th:only-of-type {\n",
       "        vertical-align: middle;\n",
       "    }\n",
       "\n",
       "    .dataframe tbody tr th {\n",
       "        vertical-align: top;\n",
       "    }\n",
       "\n",
       "    .dataframe thead th {\n",
       "        text-align: right;\n",
       "    }\n",
       "</style>\n",
       "<table border=\"1\" class=\"dataframe\">\n",
       "  <thead>\n",
       "    <tr style=\"text-align: right;\">\n",
       "      <th></th>\n",
       "      <th>grp</th>\n",
       "      <th>users_cnt</th>\n",
       "      <th>purch</th>\n",
       "      <th>no_purch</th>\n",
       "      <th>CR</th>\n",
       "      <th>ARPU</th>\n",
       "      <th>ARPPU</th>\n",
       "    </tr>\n",
       "  </thead>\n",
       "  <tbody>\n",
       "    <tr>\n",
       "      <th>0</th>\n",
       "      <td>A</td>\n",
       "      <td>1538</td>\n",
       "      <td>78</td>\n",
       "      <td>1460</td>\n",
       "      <td>0.050715</td>\n",
       "      <td>47.347204</td>\n",
       "      <td>933.589744</td>\n",
       "    </tr>\n",
       "    <tr>\n",
       "      <th>1</th>\n",
       "      <td>B</td>\n",
       "      <td>6803</td>\n",
       "      <td>314</td>\n",
       "      <td>6489</td>\n",
       "      <td>0.046156</td>\n",
       "      <td>58.058798</td>\n",
       "      <td>1257.878992</td>\n",
       "    </tr>\n",
       "  </tbody>\n",
       "</table>\n",
       "</div>"
      ],
      "text/plain": [
       "  grp  users_cnt  purch  no_purch        CR       ARPU        ARPPU\n",
       "0   A       1538     78      1460  0.050715  47.347204   933.589744\n",
       "1   B       6803    314      6489  0.046156  58.058798  1257.878992"
      ]
     },
     "execution_count": 26,
     "metadata": {},
     "output_type": "execute_result"
    }
   ],
   "source": [
    "grp_metrics"
   ]
  },
  {
   "cell_type": "markdown",
   "metadata": {},
   "source": [
    "Можно увидеть, что <b>конверсия в целевой группе ниже</b>, но при этом <b> ARPU, ARPPU</b> существенно отличаются.\n",
    "Скорее всего новая механика оплаты повлияла на сумму оплаты, т.е. пользователи покупают чуть хуже, но при этом чек выше.\n",
    "Осталось понять, являются ли эти изменения статистически значимыми"
   ]
  },
  {
   "cell_type": "code",
   "execution_count": 27,
   "metadata": {
    "scrolled": true
   },
   "outputs": [
    {
     "data": {
      "text/plain": [
       "<matplotlib.axes._subplots.AxesSubplot at 0x7fe7db46c5f8>"
      ]
     },
     "execution_count": 27,
     "metadata": {},
     "output_type": "execute_result"
    },
    {
     "data": {
      "image/png": "[encoded data removed]",
      "text/plain": [
       "<Figure size 432x288 with 1 Axes>"
      ]
     },
     "metadata": {
      "needs_background": "light"
     },
     "output_type": "display_data"
    }
   ],
   "source": [
    "groupA.rev.hist()"
   ]
  },
  {
   "cell_type": "code",
   "execution_count": 28,
   "metadata": {},
   "outputs": [
    {
     "data": {
      "text/plain": [
       "<matplotlib.axes._subplots.AxesSubplot at 0x7fe7db412c18>"
      ]
     },
     "execution_count": 28,
     "metadata": {},
     "output_type": "execute_result"
    },
    {
     "data": {
      "image/png": "[encoded data removed]",
      "text/plain": [
       "<Figure size 432x288 with 1 Axes>"
      ]
     },
     "metadata": {
      "needs_background": "light"
     },
     "output_type": "display_data"
    }
   ],
   "source": [
    "groupA.query('rev > 0').rev.hist()"
   ]
  },
  {
   "cell_type": "code",
   "execution_count": 29,
   "metadata": {},
   "outputs": [
    {
     "data": {
      "text/plain": [
       "<matplotlib.axes._subplots.AxesSubplot at 0x7fe7daea1278>"
      ]
     },
     "execution_count": 29,
     "metadata": {},
     "output_type": "execute_result"
    },
    {
     "data": {
      "image/png": "[encoded data removed]",
      "text/plain": [
       "<Figure size 432x288 with 1 Axes>"
      ]
     },
     "metadata": {
      "needs_background": "light"
     },
     "output_type": "display_data"
    }
   ],
   "source": [
    "groupB.rev.hist()"
   ]
  },
  {
   "cell_type": "code",
   "execution_count": 30,
   "metadata": {},
   "outputs": [
    {
     "data": {
      "text/plain": [
       "<matplotlib.axes._subplots.AxesSubplot at 0x7fe7dae1acc0>"
      ]
     },
     "execution_count": 30,
     "metadata": {},
     "output_type": "execute_result"
    },
    {
     "data": {
      "image/png": "[encoded data removed]",
      "text/plain": [
       "<Figure size 432x288 with 1 Axes>"
      ]
     },
     "metadata": {
      "needs_background": "light"
     },
     "output_type": "display_data"
    }
   ],
   "source": [
    "groupB.query('rev > 0').rev.hist()"
   ]
  },
  {
   "cell_type": "markdown",
   "metadata": {},
   "source": [
    "Распределения revenue в обеих группах отличаются от нормальных. \n",
    "Можно заметить, что в целевой группе есть большое количество покупок на чуть меньше 2000 единиц\n"
   ]
  },
  {
   "cell_type": "code",
   "execution_count": 31,
   "metadata": {},
   "outputs": [
    {
     "data": {
      "text/plain": [
       "0.0000       6489\n",
       "1900.0000      93\n",
       "290.0000       45\n",
       "1900.0001      35\n",
       "199.0000       27\n",
       "840.0000       21\n",
       "990.0000       17\n",
       "690.0000       13\n",
       "1140.0000       9\n",
       "398.0000        6\n",
       "590.0000        6\n",
       "580.0000        5\n",
       "1530.0000       5\n",
       "870.0000        5\n",
       "2890.0000       3\n",
       "2099.0000       3\n",
       "2910.0000       2\n",
       "1980.0000       2\n",
       "3660.0000       2\n",
       "2220.0000       1\n",
       "1729.0000       1\n",
       "3040.0000       1\n",
       "3260.0000       1\n",
       "1050.0000       1\n",
       "796.0000        1\n",
       "1339.0000       1\n",
       "4650.0000       1\n",
       "880.0000        1\n",
       "2190.0000       1\n",
       "489.0000        1\n",
       "597.0000        1\n",
       "1388.0000       1\n",
       "1160.0000       1\n",
       "1968.0000       1\n",
       "Name: rev, dtype: int64"
      ]
     },
     "execution_count": 31,
     "metadata": {},
     "output_type": "execute_result"
    }
   ],
   "source": [
    "groupB.rev.value_counts()"
   ]
  },
  {
   "cell_type": "code",
   "execution_count": 32,
   "metadata": {},
   "outputs": [
    {
     "data": {
      "text/plain": [
       "0.0       1460\n",
       "290.0       25\n",
       "580.0        6\n",
       "590.0        5\n",
       "199.0        5\n",
       "990.0        5\n",
       "690.0        4\n",
       "840.0        3\n",
       "3660.0       3\n",
       "1530.0       3\n",
       "2910.0       2\n",
       "1140.0       2\n",
       "2820.0       2\n",
       "1160.0       2\n",
       "489.0        2\n",
       "2220.0       1\n",
       "1039.0       1\n",
       "2890.0       1\n",
       "2900.0       1\n",
       "398.0        1\n",
       "870.0        1\n",
       "1980.0       1\n",
       "1180.0       1\n",
       "1830.0       1\n",
       "Name: rev, dtype: int64"
      ]
     },
     "execution_count": 32,
     "metadata": {},
     "output_type": "execute_result"
    }
   ],
   "source": [
    "groupA.rev.value_counts()"
   ]
  },
  {
   "cell_type": "markdown",
   "metadata": {},
   "source": [
    "на 1900, если быть точнее, возможно новая механика оплаты включает в себя какой-то бонус при покупке на 1900 ??\n",
    "Тогда этим объясняется такое различие в ARPPU, если учесть, что в группе А нет такого что какая-то сумма денег ярко выражена"
   ]
  },
  {
   "cell_type": "code",
   "execution_count": 33,
   "metadata": {
    "scrolled": true
   },
   "outputs": [
    {
     "data": {
      "text/html": [
       "<div>\n",
       "<style scoped>\n",
       "    .dataframe tbody tr th:only-of-type {\n",
       "        vertical-align: middle;\n",
       "    }\n",
       "\n",
       "    .dataframe tbody tr th {\n",
       "        vertical-align: top;\n",
       "    }\n",
       "\n",
       "    .dataframe thead th {\n",
       "        text-align: right;\n",
       "    }\n",
       "</style>\n",
       "<table border=\"1\" class=\"dataframe\">\n",
       "  <thead>\n",
       "    <tr style=\"text-align: right;\">\n",
       "      <th></th>\n",
       "      <th>grp</th>\n",
       "      <th>users_cnt</th>\n",
       "      <th>purch</th>\n",
       "      <th>no_purch</th>\n",
       "      <th>CR</th>\n",
       "      <th>ARPU</th>\n",
       "      <th>ARPPU</th>\n",
       "    </tr>\n",
       "  </thead>\n",
       "  <tbody>\n",
       "    <tr>\n",
       "      <th>0</th>\n",
       "      <td>A</td>\n",
       "      <td>1538</td>\n",
       "      <td>78</td>\n",
       "      <td>1460</td>\n",
       "      <td>0.050715</td>\n",
       "      <td>47.347204</td>\n",
       "      <td>933.589744</td>\n",
       "    </tr>\n",
       "    <tr>\n",
       "      <th>1</th>\n",
       "      <td>B</td>\n",
       "      <td>6803</td>\n",
       "      <td>314</td>\n",
       "      <td>6489</td>\n",
       "      <td>0.046156</td>\n",
       "      <td>58.058798</td>\n",
       "      <td>1257.878992</td>\n",
       "    </tr>\n",
       "  </tbody>\n",
       "</table>\n",
       "</div>"
      ],
      "text/plain": [
       "  grp  users_cnt  purch  no_purch        CR       ARPU        ARPPU\n",
       "0   A       1538     78      1460  0.050715  47.347204   933.589744\n",
       "1   B       6803    314      6489  0.046156  58.058798  1257.878992"
      ]
     },
     "execution_count": 33,
     "metadata": {},
     "output_type": "execute_result"
    }
   ],
   "source": [
    "grp_metrics"
   ]
  },
  {
   "cell_type": "markdown",
   "metadata": {},
   "source": [
    "Проверим являются ли изменения в <b>конверсии</b> статистически значимы.  Так как мы имеем информацию о количестве пользователей которые совершили/не совершили целевое действие (категориальные данные) для проверики буду использовать тест хи-квадрат, так как он не требует нормальности распределений."
   ]
  },
  {
   "cell_type": "markdown",
   "metadata": {},
   "source": [
    "Для создания таблицы сопряженности можно использовать <b>grp_metrics</b>"
   ]
  },
  {
   "cell_type": "code",
   "execution_count": 53,
   "metadata": {},
   "outputs": [
    {
     "data": {
      "text/plain": [
       "array([[  78, 1460],\n",
       "       [ 314, 6489]])"
      ]
     },
     "execution_count": 53,
     "metadata": {},
     "output_type": "execute_result"
    }
   ],
   "source": [
    "contingency_table = np.array(grp_metrics.drop(['users_cnt','grp','CR','ARPU','ARPPU'], axis=1))\n",
    "contingency_table"
   ]
  },
  {
   "cell_type": "code",
   "execution_count": 54,
   "metadata": {},
   "outputs": [
    {
     "data": {
      "text/plain": [
       "0.48625240457231045"
      ]
     },
     "execution_count": 54,
     "metadata": {},
     "output_type": "execute_result"
    }
   ],
   "source": [
    "chi2, p_value, dof, expected = chi2_contingency(contingency_table)\n",
    "p_value"
   ]
  },
  {
   "cell_type": "markdown",
   "metadata": {},
   "source": [
    "<b>p_value > 0.05 это означает, что нулевая гипотеза (распределения двух выборок одинаковы) не может быть отвергнута на уровне значимости 0.05. Иначе говоря, нет достаточных доказательств для того, чтобы утверждать, что выборки имеют различия в распределении.</b>"
   ]
  },
  {
   "cell_type": "markdown",
   "metadata": {},
   "source": [
    "Для проверки статистически значимых изменений в <b>ARPU и ARPPU</b> я буду использовать <b>бутстрап</b>, так как он является непараметрическим методом, не требующим предположений о нормальности распределения, и может быть более точным и полезным методом при малых размерах выборкию"
   ]
  },
  {
   "cell_type": "code",
   "execution_count": 36,
   "metadata": {},
   "outputs": [],
   "source": [
    "# Объявим функцию, которая позволит проверять гипотезы с помощью бутстрапа\n",
    "def get_bootstrap(\n",
    "    data_column_1, # числовые значения первой выборки\n",
    "    data_column_2, # числовые значения второй выборки\n",
    "    boot_it = 1000, # количество бутстрэп-подвыборок\n",
    "    statistic = np.mean, # интересующая нас статистика\n",
    "    bootstrap_conf_level = 0.95 # уровень значимости\n",
    "):\n",
    "    boot_data = []\n",
    "    for i in tqdm(range(boot_it)): # извлекаем подвыборки\n",
    "        samples_1 = data_column_1.sample(\n",
    "            len(data_column_1), \n",
    "            replace = True # параметр возвращения\n",
    "        ).values\n",
    "        \n",
    "        samples_2 = data_column_2.sample(\n",
    "            len(data_column_1), \n",
    "            replace = True\n",
    "        ).values\n",
    "        \n",
    "        boot_data.append(statistic(samples_1)-statistic(samples_2)) # mean() - применяем статистику\n",
    "        \n",
    "    pd_boot_data = pd.DataFrame(boot_data)\n",
    "        \n",
    "    left_quant = (1 - bootstrap_conf_level)/2\n",
    "    right_quant = 1 - (1 - bootstrap_conf_level) / 2\n",
    "    quants = pd_boot_data.quantile([left_quant, right_quant])\n",
    "        \n",
    "    p_1 = norm.cdf(\n",
    "        x = 0, \n",
    "        loc = np.mean(boot_data), \n",
    "        scale = np.std(boot_data)\n",
    "    )\n",
    "    p_2 = norm.cdf(\n",
    "        x = 0, \n",
    "        loc = -np.mean(boot_data), \n",
    "        scale = np.std(boot_data)\n",
    "    )\n",
    "    p_value = min(p_1, p_2) * 2\n",
    "        \n",
    "    # Визуализация\n",
    "    _, _, bars = plt.hist(pd_boot_data[0], bins = 50)\n",
    "    for bar in bars:\n",
    "        if bar.get_x() <= quants.iloc[0][0] or bar.get_x() >= quants.iloc[1][0]:\n",
    "            bar.set_facecolor('red')\n",
    "        else: \n",
    "            bar.set_facecolor('orange')\n",
    "            bar.set_edgecolor('black')\n",
    "    \n",
    "    plt.style.use('ggplot')\n",
    "    plt.vlines(quants,ymin=0,ymax=50,linestyle='--')\n",
    "    plt.xlabel('boot_data')\n",
    "    plt.ylabel('frequency')\n",
    "    plt.title(\"Histogram of boot_data\")\n",
    "    plt.show()\n",
    "       \n",
    "    return {\"boot_data\": boot_data, \n",
    "            \"quants\": quants, \n",
    "            \"p_value\": p_value}"
   ]
  },
  {
   "cell_type": "code",
   "execution_count": 37,
   "metadata": {},
   "outputs": [
    {
     "data": {
      "application/vnd.jupyter.widget-view+json": {
       "model_id": "5fbf2a9db71a4d449b123d87d19b51d1",
       "version_major": 2,
       "version_minor": 0
      },
      "text/plain": [
       "HBox(children=(FloatProgress(value=0.0, max=2000.0), HTML(value='')))"
      ]
     },
     "metadata": {},
     "output_type": "display_data"
    },
    {
     "name": "stdout",
     "output_type": "stream",
     "text": [
      "\n"
     ]
    },
    {
     "data": {
      "image/png": "[encoded data removed]",
      "text/plain": [
       "<Figure size 432x288 with 1 Axes>"
      ]
     },
     "metadata": {
      "needs_background": "light"
     },
     "output_type": "display_data"
    }
   ],
   "source": [
    "booted_data_arpu = get_bootstrap(groupB.rev, groupA.rev, boot_it = 2000)"
   ]
  },
  {
   "cell_type": "code",
   "execution_count": 38,
   "metadata": {},
   "outputs": [
    {
     "data": {
      "text/plain": [
       "0.03862049888119818"
      ]
     },
     "execution_count": 38,
     "metadata": {},
     "output_type": "execute_result"
    }
   ],
   "source": [
    "booted_data_arpu[\"p_value\"]"
   ]
  },
  {
   "cell_type": "code",
   "execution_count": 39,
   "metadata": {},
   "outputs": [
    {
     "data": {
      "text/html": [
       "<div>\n",
       "<style scoped>\n",
       "    .dataframe tbody tr th:only-of-type {\n",
       "        vertical-align: middle;\n",
       "    }\n",
       "\n",
       "    .dataframe tbody tr th {\n",
       "        vertical-align: top;\n",
       "    }\n",
       "\n",
       "    .dataframe thead th {\n",
       "        text-align: right;\n",
       "    }\n",
       "</style>\n",
       "<table border=\"1\" class=\"dataframe\">\n",
       "  <thead>\n",
       "    <tr style=\"text-align: right;\">\n",
       "      <th></th>\n",
       "      <th>0</th>\n",
       "    </tr>\n",
       "  </thead>\n",
       "  <tbody>\n",
       "    <tr>\n",
       "      <th>0.025</th>\n",
       "      <td>0.341052</td>\n",
       "    </tr>\n",
       "    <tr>\n",
       "      <th>0.975</th>\n",
       "      <td>20.420668</td>\n",
       "    </tr>\n",
       "  </tbody>\n",
       "</table>\n",
       "</div>"
      ],
      "text/plain": [
       "               0\n",
       "0.025   0.341052\n",
       "0.975  20.420668"
      ]
     },
     "execution_count": 39,
     "metadata": {},
     "output_type": "execute_result"
    }
   ],
   "source": [
    "booted_data_arpu['quants']"
   ]
  },
  {
   "cell_type": "markdown",
   "metadata": {},
   "source": [
    "Результаты бутстрапа дают возможность отклонить нулевую гипотезу, т.к. p_value < 0.05 и доверительный интервал выходит за ноль. То есть делаем вывод, что в тестовой и контрольной группе имеются различия в <b>ARPU.</b>"
   ]
  },
  {
   "cell_type": "markdown",
   "metadata": {},
   "source": [
    "<b>Для ARPPU:</b>"
   ]
  },
  {
   "cell_type": "code",
   "execution_count": 40,
   "metadata": {},
   "outputs": [
    {
     "data": {
      "application/vnd.jupyter.widget-view+json": {
       "model_id": "f77b213a08cb42349e4389518e7dace2",
       "version_major": 2,
       "version_minor": 0
      },
      "text/plain": [
       "HBox(children=(FloatProgress(value=0.0, max=2000.0), HTML(value='')))"
      ]
     },
     "metadata": {},
     "output_type": "display_data"
    },
    {
     "name": "stdout",
     "output_type": "stream",
     "text": [
      "\n"
     ]
    },
    {
     "data": {
      "image/png": "[encoded data removed]",
      "text/plain": [
       "<Figure size 432x288 with 1 Axes>"
      ]
     },
     "metadata": {},
     "output_type": "display_data"
    }
   ],
   "source": [
    "booted_data_arppu = get_bootstrap(groupB.query('rev > 0').rev, groupA.query('rev > 0').rev, boot_it = 2000)"
   ]
  },
  {
   "cell_type": "code",
   "execution_count": 41,
   "metadata": {},
   "outputs": [
    {
     "data": {
      "text/html": [
       "<div>\n",
       "<style scoped>\n",
       "    .dataframe tbody tr th:only-of-type {\n",
       "        vertical-align: middle;\n",
       "    }\n",
       "\n",
       "    .dataframe tbody tr th {\n",
       "        vertical-align: top;\n",
       "    }\n",
       "\n",
       "    .dataframe thead th {\n",
       "        text-align: right;\n",
       "    }\n",
       "</style>\n",
       "<table border=\"1\" class=\"dataframe\">\n",
       "  <thead>\n",
       "    <tr style=\"text-align: right;\">\n",
       "      <th></th>\n",
       "      <th>0</th>\n",
       "    </tr>\n",
       "  </thead>\n",
       "  <tbody>\n",
       "    <tr>\n",
       "      <th>0.025</th>\n",
       "      <td>185.728830</td>\n",
       "    </tr>\n",
       "    <tr>\n",
       "      <th>0.975</th>\n",
       "      <td>454.184489</td>\n",
       "    </tr>\n",
       "  </tbody>\n",
       "</table>\n",
       "</div>"
      ],
      "text/plain": [
       "                0\n",
       "0.025  185.728830\n",
       "0.975  454.184489"
      ]
     },
     "execution_count": 41,
     "metadata": {},
     "output_type": "execute_result"
    }
   ],
   "source": [
    "booted_data_arppu['quants']"
   ]
  },
  {
   "cell_type": "markdown",
   "metadata": {},
   "source": [
    "Результаты бутстрапа дают возможность отклонить нулевую гипотезу, т.к. p_value < 0.05 и доверительный интервал выходит за ноль. То есть делаем вывод, что в тестовой и контрольной группе имеются различия в <b>ARPPU.</b>"
   ]
  },
  {
   "cell_type": "markdown",
   "metadata": {},
   "source": [
    "### Итого\n",
    "\n",
    "<b>\n",
    "В ходе анализа я рассмотрел такие метрики как:\n",
    "CR - метрика позволяющяя определить эффективность новой механики оплаты\n",
    "ARPU - метрика позволяет оценить, как новая механика оплаты влияет на средний доход с одного пользователя\n",
    "ARPPU - также является важной метрикой, она показывает средний доход с каждого платящего пользователя и может помочь понять, насколько успешно новая механика оплаты привлекает и удерживает платежеспособных пользователей.\n",
    "Интересно, что CR в целевой группе стал ниже, но ARPU и ARPPU выросли существенно. Новая механика оплаты побуждает пользователей отдавать больше денег(очень много платежей по 1900) - это, как мне кажется, оказывает бОльшее влияние на метрику ARPPU, поэтому ее я и выберу в качестве ключевой. Изменение ARPPU и ARPU на основании бутстрапа являются статистически значимыми , а CR на основании хи-квадрат теста - не являются статистически значимыми. \n",
    "Считаю, что новую механику надо запускать на всех пользователей.\n",
    "</b>"
   ]
  },
  {
   "cell_type": "markdown",
   "metadata": {},
   "source": [
    "## Задание 2. SQL\n",
    "### Условие\n",
    "<b>Образовательные курсы состоят из различных уроков, каждый из которых состоит из нескольких маленьких заданий. Каждое такое маленькое задание называется \"горошиной\".\n",
    "\n",
    "Назовём очень усердным учеником того пользователя, который хотя бы раз за текущий месяц правильно решил 20 горошин.</b>\n",
    "### Задача\n",
    "<b>Дана таблица default.peas:</b>\n",
    "<table style=\"width:70%\">\n",
    "<tr>\n",
    "<th>Название атрибута</th>\n",
    "<th>Тип атрибута</th>\n",
    "<th>Смысловое значение</th>\n",
    "</tr>\n",
    "\n",
    "<tr>\n",
    "<td>st_id</td>\n",
    "<td>int</td>\n",
    "<td>ID ученика</td>\n",
    "</tr>\n",
    "\n",
    "<tr>\n",
    "<td>timest</td>\n",
    "<td>timestamp</td>\n",
    "<td>Время решения карточки</td>\n",
    "</tr>\n",
    "\n",
    "<tr>\n",
    "<td>correct</td>\n",
    "<td>bool</td>\n",
    "<td>Правильно ли решена горошина?</td>\n",
    "</tr>\n",
    "\n",
    "<tr>\n",
    "<td>subject</td>\n",
    "<td>text</td>\n",
    "<td>Дисциплина, в которой находится горошина</td>\n",
    "</tr> \n",
    "\n",
    "</table>\n",
    "\n",
    "Необходимо написать оптимальный запрос, который даст информацию о количестве очень усердных студентов.\n",
    "\n",
    "NB! Под очень усердным студентом мы понимаем студента, который правильно решил 20 задач за текущий месяц."
   ]
  },
  {
   "cell_type": "code",
   "execution_count": 42,
   "metadata": {},
   "outputs": [],
   "source": [
    "import pandahouse as ph"
   ]
  },
  {
   "cell_type": "code",
   "execution_count": 43,
   "metadata": {},
   "outputs": [],
   "source": [
    "connection_default = {'host': 'http://clickhouse.beslan.pro:8080',\n",
    "                      'database':'default',\n",
    "                      'user':'student', \n",
    "                      'password':'dpo_python_2020'\n",
    "                     }"
   ]
  },
  {
   "cell_type": "code",
   "execution_count": 44,
   "metadata": {},
   "outputs": [
    {
     "data": {
      "text/html": [
       "<div>\n",
       "<style scoped>\n",
       "    .dataframe tbody tr th:only-of-type {\n",
       "        vertical-align: middle;\n",
       "    }\n",
       "\n",
       "    .dataframe tbody tr th {\n",
       "        vertical-align: top;\n",
       "    }\n",
       "\n",
       "    .dataframe thead th {\n",
       "        text-align: right;\n",
       "    }\n",
       "</style>\n",
       "<table border=\"1\" class=\"dataframe\">\n",
       "  <thead>\n",
       "    <tr style=\"text-align: right;\">\n",
       "      <th></th>\n",
       "      <th>st_cnt</th>\n",
       "    </tr>\n",
       "  </thead>\n",
       "  <tbody>\n",
       "    <tr>\n",
       "      <th>0</th>\n",
       "      <td>130</td>\n",
       "    </tr>\n",
       "  </tbody>\n",
       "</table>\n",
       "</div>"
      ],
      "text/plain": [
       "   st_cnt\n",
       "0     130"
      ]
     },
     "execution_count": 44,
     "metadata": {},
     "output_type": "execute_result"
    }
   ],
   "source": [
    "q = '''\n",
    "    SELECT COUNT(st_id) as st_cnt\n",
    "    FROM\n",
    "        (SELECT st_id, SUM(correct) as sum_correct\n",
    "        FROM default.peas\n",
    "        WHERE correct = 1\n",
    "        GROUP BY st_id\n",
    "        HAVING sum_correct > 20)\n",
    "    '''\n",
    "\n",
    "# отправляем запрос и записываем результат в пандасовский датафрейм\n",
    "students = ph.read_clickhouse(query=q, connection=connection_default)\n",
    "students"
   ]
  },
  {
   "cell_type": "markdown",
   "metadata": {},
   "source": [
    "### Задание 2.2 Оптимизация воронки\n",
    "### Условие\n",
    "Образовательная платформа предлагает пройти студентам курсы по модели trial:\n",
    "студент может решить бесплатно лишь 30 горошин в день. \n",
    "Для неограниченного количества заданий в определенной дисциплине студенту необходимо приобрести полный доступ. \n",
    "Команда провела эксперимент, где был протестирован новый экран оплаты.\n",
    "### Задача\n",
    "<b>Дана таблицы: default.peas (см. выше), default.studs:</b>\n",
    "<table style=\"width:70%\">\n",
    "<tr>\n",
    "<th>Название атрибута</th>\n",
    "<th>Тип атрибута</th>\n",
    "<th>Смысловое значение</th>\n",
    "</tr>\n",
    "\n",
    "<tr>\n",
    "<td>st_id</td>\n",
    "<td>int</td>\n",
    "<td>ID ученика</td>\n",
    "</tr>\n",
    "\n",
    "<tr>\n",
    "<td>test_grp</td>\n",
    "<td>text</td>\n",
    "<td>Метка ученика в данном эксперименте</td>\n",
    "</tr>\n",
    "</table>\n",
    "\n",
    "<b>и default.final_project_check:</b>\n",
    "\n",
    "<table style=\"width:70%\">\n",
    "<tr>\n",
    "<th>Название атрибута</th>\n",
    "<th>Тип атрибута</th>\n",
    "<th>Смысловое значение</th>\n",
    "</tr>\n",
    "\n",
    "<tr>\n",
    "<td>st_id</td>\n",
    "<td>int</td>\n",
    "<td>ID ученика</td>\n",
    "</tr>\n",
    "\n",
    "<tr>\n",
    "<td>sale_time</td>\n",
    "<td>timestamp</td>\n",
    "<td>Время покупки</td>\n",
    "</tr>\n",
    "\n",
    "<tr>\n",
    "<td>money</td>\n",
    "<td>int</td>\n",
    "<td>Цена, по которой приобрели данный курс</td>\n",
    "</tr>\n",
    "\n",
    "<tr>\n",
    "<td>subject</td>\n",
    "<td>text</td>\n",
    "<td>Дисциплина, на которую приобрели полный доступ</td>\n",
    "</tr>\n",
    "\n",
    "</table>\n",
    "Необходимо в одном запросе выгрузить следующую информацию о группах пользователей:\n",
    "<ul>\n",
    "<li>ARPU</li>\n",
    "<li>ARPAU</li>\n",
    "<li>CR в покупку</li>\n",
    "<li>СR активного пользователя в покупку</li> \n",
    "<li>CR пользователя из активности по математике (subject = ’math’) в покупку курса по математике</li>\n",
    "</ul>\n",
    "ARPU считается относительно всех пользователей, попавших в группы.\n",
    "\n",
    "Активным считается пользователь, за все время решивший больше 10 задач правильно в любых дисциплинах.\n",
    "\n",
    "Активным по математике считается пользователь, за все время решивший 2 или больше задач правильно по математике."
   ]
  },
  {
   "cell_type": "code",
   "execution_count": 101,
   "metadata": {},
   "outputs": [
    {
     "data": {
      "text/html": [
       "<div>\n",
       "<style scoped>\n",
       "    .dataframe tbody tr th:only-of-type {\n",
       "        vertical-align: middle;\n",
       "    }\n",
       "\n",
       "    .dataframe tbody tr th {\n",
       "        vertical-align: top;\n",
       "    }\n",
       "\n",
       "    .dataframe thead th {\n",
       "        text-align: right;\n",
       "    }\n",
       "</style>\n",
       "<table border=\"1\" class=\"dataframe\">\n",
       "  <thead>\n",
       "    <tr style=\"text-align: right;\">\n",
       "      <th></th>\n",
       "      <th>test_grp</th>\n",
       "      <th>ARPU</th>\n",
       "      <th>ARPAU</th>\n",
       "      <th>CR_purchase</th>\n",
       "      <th>CR_active_user</th>\n",
       "      <th>CR_math_active_user_to_math</th>\n",
       "    </tr>\n",
       "  </thead>\n",
       "  <tbody>\n",
       "    <tr>\n",
       "      <th>0</th>\n",
       "      <td>control</td>\n",
       "      <td>4540.983607</td>\n",
       "      <td>10393.700787</td>\n",
       "      <td>4.918033</td>\n",
       "      <td>11.023622</td>\n",
       "      <td>6.122449</td>\n",
       "    </tr>\n",
       "    <tr>\n",
       "      <th>1</th>\n",
       "      <td>pilot</td>\n",
       "      <td>11508.474576</td>\n",
       "      <td>29739.583333</td>\n",
       "      <td>10.847458</td>\n",
       "      <td>26.041667</td>\n",
       "      <td>9.523810</td>\n",
       "    </tr>\n",
       "  </tbody>\n",
       "</table>\n",
       "</div>"
      ],
      "text/plain": [
       "  test_grp          ARPU         ARPAU  CR_purchase  CR_active_user  \\\n",
       "0  control   4540.983607  10393.700787     4.918033       11.023622   \n",
       "1    pilot  11508.474576  29739.583333    10.847458       26.041667   \n",
       "\n",
       "   CR_math_active_user_to_math  \n",
       "0                     6.122449  \n",
       "1                     9.523810  "
      ]
     },
     "execution_count": 101,
     "metadata": {},
     "output_type": "execute_result"
    }
   ],
   "source": [
    "a = '''\n",
    "SELECT \n",
    "    test_grp,\n",
    "    SUM(money)/uniqExact(studs.st_id) as ARPU,\n",
    "    SUMIf(money, total_peas > 10)/uniqIf(studs.st_id, total_peas > 10) as ARPAU,\n",
    "    uniqIf(studs.st_id, money > 0)/uniqExact(studs.st_id) * 100 as CR_purchase,\n",
    "    uniqIf(studs.st_id, money > 0 AND total_peas > 10)/uniqIf(studs.st_id, total_peas > 10) * 100 as CR_active_user,\n",
    "    uniqIf(studs.st_id, money > 0 AND math >= 2 and subject = 'Math')/\n",
    "            uniqIf(studs.st_id, math >= 2) * 100 as CR_math_active_user_to_math\n",
    "    FROM default.studs\n",
    "    LEFT JOIN (\n",
    "        SELECT \n",
    "            st_id, subject, money\n",
    "        FROM default.final_project_check\n",
    "              ) as a \n",
    "    ON studs.st_id = a.st_id\n",
    "            \n",
    "    LEFT JOIN (\n",
    "        SELECT\n",
    "            st_id,\n",
    "            SUM(correct) as total_peas,\n",
    "            SUMIf(correct, subject = 'Math') as math\n",
    "                FROM default.peas\n",
    "                GROUP BY st_id\n",
    "                ) as math_peas \n",
    "                ON studs.st_id = math_peas.st_id\n",
    "GROUP BY test_grp    \n",
    "    '''\n",
    "\n",
    "# отправляем запрос и записываем результат в пандасовский датафрейм\n",
    "metrics = ph.read_clickhouse(query=a, connection=connection_default)\n",
    "metrics"
   ]
  },
  {
   "cell_type": "markdown",
   "metadata": {},
   "source": [
    "### Задание 3. Python\n",
    "<ol>\n",
    "<li>Реализуйте функцию, которая будет автоматически подгружать информацию из дополнительного файла <b>groups_add.csv</b> (заголовки могут отличаться) и на основании дополнительных параметров пересчитывать метрики.</li>\n",
    "<li>Реализуйте функцию, которая будет строить графики по получаемым метрикам.</li>\n",
    "</ol>"
   ]
  },
  {
   "cell_type": "code",
   "execution_count": 97,
   "metadata": {},
   "outputs": [],
   "source": [
    "def update_metrics(groups, groups_add, active_st, checks):\n",
    "    \"\"\"Эта функция принимает на вход датафреймы groups, groups_add, active_st, checks и на основании доп.\n",
    "    данных из файла groups_add пересчитывает метрики\".\n",
    "\n",
    "    Args:\n",
    "        groups, groups_add, active_st, checks\n",
    "\n",
    "    Returns:\n",
    "        Возвращает таблицу с пересчитанными метриками\n",
    "    \"\"\"\n",
    "    # переименовываем слобцы groups_add\n",
    "    groups_add.columns = groups.columns\n",
    "    # Объединяю файл с разбивкой пользователей по группам с дополнительными данными\n",
    "    all_groups = pd.concat([groups, groups_add])\n",
    "    all_groups = all_groups.rename(columns={'id': 'student_id'})\n",
    "    # Объединяю датафрейм содержащий информацию о пользователях, которые в дни эксперимента заходили на сайт\n",
    "    # и датафрейм с разбивкой пользователей по группам\n",
    "    active_st_group = active_st.merge(all_groups, how='left', on='student_id')\n",
    "    # Добавляю данные с покупками пользователей\n",
    "    experiment = active_st_group.merge(checks, how='left', on='student_id').fillna(0)\n",
    "    groupA = experiment.query('grp == \"A\"')\n",
    "    groupB = experiment.query('grp == \"B\"')\n",
    "    # Рассчет метрик\n",
    "    grp_metrics = experiment.groupby('grp', as_index=False) \\\n",
    "        .agg({'student_id': 'count'}) \\\n",
    "        .rename(columns={'student_id': 'users_cnt'})\n",
    "    grp_metrics['purch'] = [groupA.query('rev > 0').shape[0], groupB.query('rev > 0').shape[0]]\n",
    "    grp_metrics['no_purch'] = [groupA.query('rev == 0').shape[0],groupB.query('rev == 0').shape[0]]\n",
    "    grp_metrics['CR'] = [groupA.query('rev > 0').rev.shape[0] / groupA.rev.shape[0],\n",
    "                         groupB.query('rev > 0').rev.shape[0] / groupB.rev.shape[0]]\n",
    "    grp_metrics['ARPU'] = [groupA.rev.sum() / groupA.shape[0], groupB.rev.sum() / groupB.shape[0]]\n",
    "    grp_metrics['ARPPU'] = [groupA.rev.sum()/groupA.query('rev > 0').shape[0], groupB.rev.sum()/groupB.query('rev > 0').shape[0]]\n",
    "    return grp_metrics"
   ]
  },
  {
   "cell_type": "code",
   "execution_count": 98,
   "metadata": {},
   "outputs": [
    {
     "data": {
      "text/html": [
       "<div>\n",
       "<style scoped>\n",
       "    .dataframe tbody tr th:only-of-type {\n",
       "        vertical-align: middle;\n",
       "    }\n",
       "\n",
       "    .dataframe tbody tr th {\n",
       "        vertical-align: top;\n",
       "    }\n",
       "\n",
       "    .dataframe thead th {\n",
       "        text-align: right;\n",
       "    }\n",
       "</style>\n",
       "<table border=\"1\" class=\"dataframe\">\n",
       "  <thead>\n",
       "    <tr style=\"text-align: right;\">\n",
       "      <th></th>\n",
       "      <th>grp</th>\n",
       "      <th>users_cnt</th>\n",
       "      <th>purch</th>\n",
       "      <th>no_purch</th>\n",
       "      <th>CR</th>\n",
       "      <th>ARPU</th>\n",
       "      <th>ARPPU</th>\n",
       "    </tr>\n",
       "  </thead>\n",
       "  <tbody>\n",
       "    <tr>\n",
       "      <th>0</th>\n",
       "      <td>A</td>\n",
       "      <td>1538</td>\n",
       "      <td>78</td>\n",
       "      <td>1460</td>\n",
       "      <td>0.050715</td>\n",
       "      <td>47.347204</td>\n",
       "      <td>933.589744</td>\n",
       "    </tr>\n",
       "    <tr>\n",
       "      <th>1</th>\n",
       "      <td>B</td>\n",
       "      <td>6803</td>\n",
       "      <td>314</td>\n",
       "      <td>6489</td>\n",
       "      <td>0.046156</td>\n",
       "      <td>58.058798</td>\n",
       "      <td>1257.878992</td>\n",
       "    </tr>\n",
       "  </tbody>\n",
       "</table>\n",
       "</div>"
      ],
      "text/plain": [
       "  grp  users_cnt  purch  no_purch        CR       ARPU        ARPPU\n",
       "0   A       1538     78      1460  0.050715  47.347204   933.589744\n",
       "1   B       6803    314      6489  0.046156  58.058798  1257.878992"
      ]
     },
     "execution_count": 98,
     "metadata": {},
     "output_type": "execute_result"
    }
   ],
   "source": [
    "update_metrics(groups,groups_add,active_st,checks)"
   ]
  },
  {
   "cell_type": "code",
   "execution_count": 99,
   "metadata": {},
   "outputs": [],
   "source": [
    "def plot_metrics(data):\n",
    "    \"\"\"Эта функция принимает на таблицу с посчитанными метриками\".\n",
    "\n",
    "    Args:\n",
    "        data\n",
    "\n",
    "    Returns:\n",
    "        Графики по получаемым метрикам\n",
    "    \"\"\"\n",
    "    \n",
    "    # Построение графиков\n",
    "    plt.bar(data['grp'], data['users_cnt'], color='blue')\n",
    "    plt.xlabel('Группа')\n",
    "    plt.ylabel('Кол-во пользователей')\n",
    "    plt.title('Кол-во пользователей по группам')\n",
    "    plt.show()\n",
    "    \n",
    "    plt.bar(data['grp'], data['purch'], color='blue')\n",
    "    plt.xlabel('Группа')\n",
    "    plt.ylabel('Кол-во покупателей')\n",
    "    plt.title('Кол-во покупателей по группам')\n",
    "    plt.show()\n",
    "    \n",
    "    plt.bar(data['grp'], data['no_purch'], color='blue')\n",
    "    plt.xlabel('Группа')\n",
    "    plt.ylabel('Кол-во не купивших пользователей')\n",
    "    plt.title('Кол-во не купивших пользователей по группам')\n",
    "    plt.show()\n",
    "    \n",
    "    plt.bar(data['grp'], data['CR'], color='grey')\n",
    "    plt.xlabel('Группа')\n",
    "    plt.ylabel('CR')\n",
    "    plt.title('CR по группам')\n",
    "    plt.show()\n",
    "    \n",
    "    plt.bar(data['grp'], data['ARPU'], color='green')\n",
    "    plt.xlabel('Группа')\n",
    "    plt.ylabel('ARPU')\n",
    "    plt.title('ARPU по группам')\n",
    "    plt.show()\n",
    "    \n",
    "    plt.bar(data['grp'], data['ARPPU'], color='orange')\n",
    "    plt.xlabel('Группа')\n",
    "    plt.ylabel('ARPPU')\n",
    "    plt.title('ARPPU по группам')\n",
    "    plt.show()"
   ]
  },
  {
   "cell_type": "code",
   "execution_count": 100,
   "metadata": {},
   "outputs": [
    {
     "data": {
      "image/png": "[encoded data removed]",
      "text/plain": [
       "<Figure size 432x288 with 1 Axes>"
      ]
     },
     "metadata": {},
     "output_type": "display_data"
    },
    {
     "data": {
      "image/png": "[encoded data removed]",
      "text/plain": [
       "<Figure size 432x288 with 1 Axes>"
      ]
     },
     "metadata": {},
     "output_type": "display_data"
    },
    {
     "data": {
      "image/png": "[encoded data removed]",
      "text/plain": [
       "<Figure size 432x288 with 1 Axes>"
      ]
     },
     "metadata": {},
     "output_type": "display_data"
    },
    {
     "data": {
      "image/png": "[encoded data removed]",
      "text/plain": [
       "<Figure size 432x288 with 1 Axes>"
      ]
     },
     "metadata": {},
     "output_type": "display_data"
    },
    {
     "data": {
      "image/png": "[encoded data removed]",
      "text/plain": [
       "<Figure size 432x288 with 1 Axes>"
      ]
     },
     "metadata": {},
     "output_type": "display_data"
    },
    {
     "data": {
      "image/png": "[encoded data removed]",
      "text/plain": [
       "<Figure size 432x288 with 1 Axes>"
      ]
     },
     "metadata": {},
     "output_type": "display_data"
    }
   ],
   "source": [
    "plot_metrics(grp_metrics)"
   ]
  },
  {
   "cell_type": "code",
   "execution_count": null,
   "metadata": {},
   "outputs": [],
   "source": []
  }
 ],
 "metadata": {
  "kernelspec": {
   "display_name": "Python 3",
   "language": "python",
   "name": "python3"
  },
  "language_info": {
   "codemirror_mode": {
    "name": "ipython",
    "version": 3
   },
   "file_extension": ".py",
   "mimetype": "text/x-python",
   "name": "python",
   "nbconvert_exporter": "python",
   "pygments_lexer": "ipython3",
   "version": "3.7.3"
  }
 },
 "nbformat": 4,
 "nbformat_minor": 4
}
